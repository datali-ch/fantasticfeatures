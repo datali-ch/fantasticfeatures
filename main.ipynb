{
 "cells": [
  {
   "cell_type": "markdown",
   "metadata": {},
   "source": [
    "<div class=\"notebook-buttons\" style=\"display:flex; padding-top: 5rem;padding-bottom: 2.5rem;line-height: 2.15;\">\n",
    "    <a href=\"https://colab.research.google.com/github/magdasalatka/fantastic-features/blob/main/main.ipynb\">\n",
    "        <div id=\"colab-link\" style=\"display: flex;padding-right: 3.5rem;padding-bottom: 0.625rem;border-bottom: 1px solid #ececed; align-items: center;\">\n",
    "            <img class=\"call-to-action-img\" src=\"img/colab.svg\" width=\"30\" height=\"30\" style=\"margin-right: 10px;margin-top: auto;margin-bottom: auto;\">\n",
    "            <div class=\"call-to-action-txt\">Run in Google Colab</div>\n",
    "        </div>\n",
    "    </a>\n",
    "    <a href=\"https://raw.githubusercontent.com/magdasalatka/fantastic-features/main/main.ipynb\" download>\n",
    "        <div id=\"download-link\" style=\"display: flex;padding-right: 3.5rem;padding-bottom: 0.625rem;border-bottom: 1px solid #ececed; height: auto;align-items: center;\">\n",
    "            <img class=\"call-to-action-img\" src=\"img/download.svg\" width=\"22\" height=\"30\" style=\"margin-right: 10px;margin-top: auto;margin-bottom: auto;\">\n",
    "            <div class=\"call-to-action-txt\">Download Notebook</div>\n",
    "        </div>\n",
    "    </a>\n",
    "    <a href=\"https://github.com/magdasalatka/fantastic-features/blob/main/main.ipynb\">\n",
    "        <div id=\"github-link\" style=\"display: flex;padding-right: 3.5rem;padding-bottom: 0.625rem;border-bottom: 1px solid #ececed; height: auto;align-items: center;\">\n",
    "            <img class=\"call-to-action-img\" src=\"img/github.svg\" width=\"25\" height=\"30\" style=\"margin-right: 10px;margin-top: auto;margin-bottom: auto;\">\n",
    "            <div class=\"call-to-action-txt\">View on GitHub</div>\n",
    "        </div>\n",
    "    </a>\n",
    "</div>\n",
    "\n",
    "# Back to the Feature\n",
    "### Statistical feature engineering"
   ]
  },
  {
   "cell_type": "code",
   "execution_count": null,
   "metadata": {},
   "outputs": [],
   "source": [
    "from sklearn import datasets, linear_model\n",
    "import numpy as np\n",
    "import matplotlib.pyplot as plt \n",
    "import pandas as pd\n",
    "import statsmodels as sm\n",
    "\n",
    "X, y = datasets.load_diabetes(return_X_y=True)"
   ]
  },
  {
   "cell_type": "code",
   "execution_count": null,
   "metadata": {},
   "outputs": [],
   "source": [
    "X.shape"
   ]
  },
  {
   "cell_type": "code",
   "execution_count": null,
   "metadata": {},
   "outputs": [],
   "source": [
    "y.shape"
   ]
  },
  {
   "cell_type": "code",
   "execution_count": null,
   "metadata": {},
   "outputs": [],
   "source": [
    "thershold = int(len(X)*0.8)\n",
    "X_train, X_test = X[:thershold], X[thershold:]\n",
    "y_train, y_test = y[:thershold], y[thershold:]"
   ]
  },
  {
   "cell_type": "code",
   "execution_count": null,
   "metadata": {},
   "outputs": [],
   "source": [
    "lm = linear_model.LinearRegression()\n",
    "model = lm.fit(X_train, y_train)\n",
    "fitted = model.predict(X_train)"
   ]
  },
  {
   "cell_type": "markdown",
   "metadata": {},
   "source": [
    "### Regression results"
   ]
  },
  {
   "cell_type": "code",
   "execution_count": null,
   "metadata": {},
   "outputs": [],
   "source": [
    "X2 = sm.api.add_constant(X)\n",
    "est = sm.api.OLS(y, X2)\n",
    "est2 = est.fit()\n",
    "print(est2.summary())"
   ]
  },
  {
   "cell_type": "code",
   "execution_count": null,
   "metadata": {},
   "outputs": [],
   "source": [
    "# VALUES : Actual vs predicted\n",
    "fig, ax = plt.subplots()\n",
    "ax.scatter(fitted, y_train)\n",
    "ax.set_xlabel(\"Predicted\")\n",
    "ax.set_ylabel(\"Observed\")"
   ]
  },
  {
   "cell_type": "code",
   "execution_count": null,
   "metadata": {},
   "outputs": [],
   "source": [
    "# Coefficients\n"
   ]
  },
  {
   "cell_type": "code",
   "execution_count": null,
   "metadata": {},
   "outputs": [],
   "source": [
    "# How does the data fit the model?  \n",
    "\n",
    "fig, axs = plt.subplots(5,2, figsize=(15,20))\n",
    "\n",
    "for i, x in enumerate(X_train.T):\n",
    "    row = i//2\n",
    "    col = i%2\n",
    "    axs[row, col].scatter(x, y_train)\n",
    "    axs[row, col].set_xlabel(\"Independent var {}\".format(i))\n",
    "    axs[row, col].set_ylabel(\"Dependent variable\")\n",
    "\n",
    "    x_vals = np.array(axs[row, col].get_xlim())\n",
    "    y_vals = model.intercept_ + model.coef_[i] * x_vals\n",
    "    axs[row, col].plot(x_vals, y_vals, '--', color=\"orange\")\n",
    "    axs[row, col].grid(True)"
   ]
  },
  {
   "cell_type": "markdown",
   "metadata": {},
   "source": [
    "# Regression diagnostics"
   ]
  },
  {
   "cell_type": "markdown",
   "metadata": {},
   "source": [
    "## Assumption 1: \n",
    "E[error] = 0"
   ]
  },
  {
   "cell_type": "code",
   "execution_count": null,
   "metadata": {},
   "outputs": [],
   "source": [
    "residuals = fitted - y_train\n",
    "print(\"Expected error estimate: {}\".format(sum(residuals)/len(residuals)))"
   ]
  },
  {
   "cell_type": "code",
   "execution_count": null,
   "metadata": {},
   "outputs": [],
   "source": [
    "\n",
    "\n",
    "fig, ax = plt.subplots()\n",
    "plt.grid(True)\n",
    "plt.scatter(fitted, residuals)\n",
    "ax.set_xlabel(\"Fitted values\")\n",
    "ax.set_ylabel(\"Residuals\")\n",
    "plt.hlines(0, xmin=min(fitted), xmax=max(fitted), colors=\"orange\")\n",
    "plt.title('Residuals vs Fitted')\n",
    "\n",
    "plt.show()"
   ]
  },
  {
   "cell_type": "markdown",
   "metadata": {},
   "source": [
    "# Assumption 2:\n",
    "var(error) = constant"
   ]
  },
  {
   "cell_type": "code",
   "execution_count": null,
   "metadata": {},
   "outputs": [],
   "source": [
    "sorted_residuals = [x for _, x in sorted(zip(fitted, residuals))]\n",
    "window = 100 # TODO: Try different windows\n",
    "\n",
    "start = 0\n",
    "variances = []\n",
    "while start+window < len(sorted_residuals):\n",
    "    variances.append(np.var(sorted_residuals[start:start+window]))\n",
    "    start += window\n",
    "\n",
    "variances[-1] = np.var(sorted_residuals[start-window:])\n",
    "variances"
   ]
  },
  {
   "cell_type": "code",
   "execution_count": null,
   "metadata": {},
   "outputs": [],
   "source": [
    "# Plot as above\n",
    "\n",
    "fig, ax = plt.subplots()\n",
    "plt.grid(True)\n",
    "plt.scatter(fitted, residuals)\n",
    "ax.set_xlabel(\"Fitted values\")\n",
    "ax.set_ylabel(\"Residuals\")\n",
    "plt.vlines(range(0, len(fitted), window), ymin=min(residuals), ymax=max(residuals), colors=\"red\")\n",
    "plt.title('Residuals vs Fitted')\n",
    "\n",
    "plt.show()\n"
   ]
  },
  {
   "cell_type": "code",
   "execution_count": null,
   "metadata": {},
   "outputs": [],
   "source": [
    "plt.bar(range(len(variances)), variances)\n",
    "plt.title('Variances')"
   ]
  },
  {
   "cell_type": "markdown",
   "metadata": {},
   "source": [
    "# Assumption 3:\n",
    "errors ~N(0, const)"
   ]
  },
  {
   "cell_type": "code",
   "execution_count": null,
   "metadata": {},
   "outputs": [],
   "source": [
    "# TODO: try different bins ?\n",
    "plt.hist(residuals, 50, density=True, facecolor='g', alpha=0.75)\n",
    "\n",
    "plt.xlabel('Error')\n",
    "plt.ylabel('Probability')\n",
    "plt.title('Residuals: empirical distribution')\n",
    "plt.grid(True)\n",
    "plt.show()"
   ]
  },
  {
   "cell_type": "code",
   "execution_count": null,
   "metadata": {},
   "outputs": [],
   "source": [
    "test = np.random.normal(0,1, 1000)\n",
    "\n",
    "fig = sm.api.qqplot(residuals/np.std(residuals), line='45')"
   ]
  },
  {
   "cell_type": "markdown",
   "metadata": {},
   "source": [
    "## Assumption 4: \n",
    "errors are not correlated\n"
   ]
  },
  {
   "cell_type": "code",
   "execution_count": null,
   "metadata": {},
   "outputs": [],
   "source": [
    "# Check 1: Residuals vs lagged residuals\n",
    "fig = sm.graphics.tsaplots.plot_acf(residuals)"
   ]
  },
  {
   "cell_type": "code",
   "execution_count": null,
   "metadata": {},
   "outputs": [],
   "source": [
    "# Check 1a (optional): Residuals vs lagged residuals\n",
    "fig, axs = plt.subplots(2,2, figsize=(12,10))\n",
    "\n",
    "for i in range(2,6):\n",
    "    row = (i-2)//2\n",
    "    col = (i-2)%2\n",
    "    axs[row, col].scatter(residuals[0:len(residuals)-i], residuals[i:])\n",
    "    axs[row, col].set_xlabel(\"Lagged residuals: {}\".format(i))\n",
    "    axs[row, col].set_ylabel(\"Residuals\")\n",
    "    axs[row, col].hlines(0, xmin=min(residuals), xmax=max(residuals), colors=\"orange\")\n",
    "    axs[row, col].grid(True)"
   ]
  },
  {
   "cell_type": "code",
   "execution_count": null,
   "metadata": {},
   "outputs": [],
   "source": [
    "# Check 2: Residuals vs independent variables\n",
    "fig, axs = plt.subplots(5,2, figsize=(15,20))\n",
    "\n",
    "for i, x in enumerate(X_train.T):\n",
    "    row = i//2\n",
    "    col = i%2\n",
    "    axs[row, col].scatter(x, residuals)\n",
    "    axs[row, col].set_xlabel(\"Independent var {}\".format(i))\n",
    "    axs[row, col].set_ylabel(\"Residuals\")\n",
    "    axs[row, col].hlines(0, xmin=min(x), xmax=max(x), colors=\"orange\")\n",
    "    axs[row, col].grid(True)"
   ]
  },
  {
   "cell_type": "code",
   "execution_count": null,
   "metadata": {},
   "outputs": [],
   "source": [
    "# Check 2: Correlations\n",
    "df = pd.DataFrame(X_train)\n",
    "\n",
    "f = plt.figure(figsize=(8, 8))\n",
    "plt.matshow(df.corr(), fignum=f.number)\n",
    "plt.xticks(range(df.select_dtypes(['number']).shape[1]), df.select_dtypes(['number']).columns, fontsize=14, rotation=45)\n",
    "plt.yticks(range(df.select_dtypes(['number']).shape[1]), df.select_dtypes(['number']).columns, fontsize=14)\n",
    "cb = plt.colorbar()\n",
    "cb.ax.tick_params(labelsize=14)\n",
    "plt.title('Correlation Matrix', fontsize=16);"
   ]
  }
 ],
 "metadata": {
  "interpreter": {
   "hash": "f86fab27d6a8300e11571769dc7d43aaa28c36089531d106e36d5cf601e6df0f"
  },
  "kernelspec": {
   "display_name": "Python 3.7.1 64-bit ('venv': venv)",
   "name": "python3"
  },
  "language_info": {
   "codemirror_mode": {
    "name": "ipython",
    "version": 3
   },
   "file_extension": ".py",
   "mimetype": "text/x-python",
   "name": "python",
   "nbconvert_exporter": "python",
   "pygments_lexer": "ipython3",
   "version": "3.7.1"
  }
 },
 "nbformat": 4,
 "nbformat_minor": 4
}
