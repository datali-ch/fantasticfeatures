{
 "cells": [
  {
   "cell_type": "markdown",
   "metadata": {},
   "source": [
    "<div class=\"notebook-buttons\" style=\"display:flex; padding-top: 5rem;padding-bottom: 2.5rem;line-height: 2.15;\">\n",
    "    <a href=\"https://colab.research.google.com/github/magdasalatka/fantasticfeatures/blob/main/main.ipynb\">\n",
    "        <div id=\"colab-link\" style=\"display: flex;padding-right: 3.5rem;padding-bottom: 0.625rem;border-bottom: 1px solid #ececed; align-items: center;\">\n",
    "            <img class=\"call-to-action-img\" src=\"img/colab.svg\" width=\"30\" height=\"30\" style=\"margin-right: 10px;margin-top: auto;margin-bottom: auto;\">\n",
    "            <div class=\"call-to-action-txt\">Run in Google Colab</div>\n",
    "        </div>\n",
    "    </a>\n",
    "    <a href=\"https://raw.githubusercontent.com/magdasalatka/fantasticfeatures/main/main.ipynb\" download>\n",
    "        <div id=\"download-link\" style=\"display: flex;padding-right: 3.5rem;padding-bottom: 0.625rem;border-bottom: 1px solid #ececed; height: auto;align-items: center;\">\n",
    "            <img class=\"call-to-action-img\" src=\"img/download.svg\" width=\"22\" height=\"30\" style=\"margin-right: 10px;margin-top: auto;margin-bottom: auto;\">\n",
    "            <div class=\"call-to-action-txt\">Download Notebook</div>\n",
    "        </div>\n",
    "    </a>\n",
    "    <a href=\"https://github.com/magdasalatka/fantasticfeatures/blob/main/main.ipynb\">\n",
    "        <div id=\"github-link\" style=\"display: flex;padding-right: 3.5rem;padding-bottom: 0.625rem;border-bottom: 1px solid #ececed; height: auto;align-items: center;\">\n",
    "            <img class=\"call-to-action-img\" src=\"img/github.svg\" width=\"25\" height=\"30\" style=\"margin-right: 10px;margin-top: auto;margin-bottom: auto;\">\n",
    "            <div class=\"call-to-action-txt\">View on GitHub</div>\n",
    "        </div>\n",
    "    </a>\n",
    "</div>\n",
    "\n",
    "# Back to the Feature\n",
    "### boost you model with statistical feature engineering\n",
    "by [Teresa Kubacka](http://teresa-kubacka.com/), [Magdalena Surówka](https://datali.ch)"
   ]
  },
  {
   "cell_type": "code",
   "execution_count": null,
   "metadata": {},
   "outputs": [],
   "source": [
    "!pip install -U git+https://github.com/magdasalatka/fantasticfeatures.git"
   ]
  },
  {
   "cell_type": "code",
   "execution_count": 4,
   "metadata": {},
   "outputs": [
    {
     "name": "stderr",
     "output_type": "stream",
     "text": [
      "C:\\Users\\TK\\Anaconda3\\lib\\site-packages\\statsmodels\\tools\\_testing.py:19: FutureWarning: pandas.util.testing is deprecated. Use the functions in the public API at pandas.testing instead.\n",
      "  import pandas.util.testing as tm\n"
     ]
    }
   ],
   "source": [
    "import numpy as np\n",
    "import matplotlib.pyplot as plt \n",
    "import pandas as pd\n",
    "import statsmodels.api as sm\n",
    "import statsmodels.graphics as sg\n",
    "\n",
    "from fantasticfeatures.plotting import plot_x_vs_y, plot_x_over_time, plot_fitted_vs_residuals, calculate_variances, plot_residuals_distribution\n",
    "# from fantasticfeatures.dataset_noise_generator import *"
   ]
  },
  {
   "cell_type": "markdown",
   "metadata": {},
   "source": [
    "# 1. Model diagnostics\n",
    "\n",
    "Regression has some assumptions about its errors, *e<sub>i</sub>*. \n",
    "These assumptions are:\n",
    "\n",
    " * E[*e<sub>i</sub>*] = 0\n",
    " * Var(*e<sub>i</sub>*) = &sigma;<sup>2</sup>\n",
    " * *e<sub>i</sub>* ~ *N*(0, &sigma;<sup>2</sup>)\n",
    " * Cov(*e<sub>i</sub>*, *e<sub>j</sub>*) = 0\n",
    "\n",
    " Additioanlly, we also assume:\n",
    " * no multicollinearity in regressors\n",
    "\n",
    "The first three conditions are necessary to perform a least square estimation and to have valid fitted values.  \n",
    "The last condition is only required for any hypothesis tests, confidence intervals and prediction intervals. "
   ]
  },
  {
   "cell_type": "markdown",
   "metadata": {},
   "source": [
    "As you can see, most of our assumptions are about errors. However, errors cannot be observed in practice. Instead, we well be working with residuals, which are only estimates of the errors. They have however, an estimation-related issue.   \n",
    "In regression, the variances of the residuals at different input variable values may differ. This can happen even if the variances of the errors at these different input variable values are equal.   \n",
    "\n",
    "To improve the results, we can standardize or [studentize](https://en.wikipedia.org/wiki/Studentized_residual) the residuals."
   ]
  },
  {
   "cell_type": "markdown",
   "metadata": {},
   "source": [
    "## 1.1 Sample model\n",
    "Let's fit a sample model, and take a look at its fit."
   ]
  },
  {
   "cell_type": "code",
   "execution_count": null,
   "metadata": {},
   "outputs": [],
   "source": [
    "df = pd.read_csv(\"https://datali.ch/files/interesting_data.csv\", index_col=0)\n",
    "y = df.y.to_numpy()\n",
    "X = df.loc[:, df.columns != 'y'].to_numpy()\n",
    "\n",
    "threshold = int(len(X)*0.8)\n",
    "X_train, X_test = X[:threshold], X[threshold:]\n",
    "y_train, y_test = y[:threshold], y[threshold:]\n",
    "\n",
    "predictors = sm.add_constant(X_train)\n",
    "model = sm.OLS(y_train, predictors).fit()\n",
    "fitted = model.predict(predictors)\n",
    "\n",
    "print(model.summary())"
   ]
  },
  {
   "cell_type": "markdown",
   "metadata": {},
   "source": [
    "## 1.2 Assumption 1\n",
    "E[*e<sub>i</sub>*] = 0\n",
    "\n",
    "In other words, on average the errrors should be zero"
   ]
  },
  {
   "cell_type": "code",
   "execution_count": null,
   "metadata": {},
   "outputs": [],
   "source": [
    "residuals_raw = fitted - y_train\n",
    "residuals = residuals_raw/np.std(residuals_raw)\n",
    "print(\"Expected error estimate: {}\".format(sum(residuals)/len(residuals)))"
   ]
  },
  {
   "cell_type": "code",
   "execution_count": null,
   "metadata": {},
   "outputs": [],
   "source": [
    "import inspect\n",
    "print(inspect.getsource(plot_x_vs_y))"
   ]
  },
  {
   "cell_type": "code",
   "execution_count": null,
   "metadata": {},
   "outputs": [],
   "source": [
    "plot_x_vs_y(fitted, residuals, \"response\", \"residuals\")"
   ]
  },
  {
   "cell_type": "code",
   "execution_count": null,
   "metadata": {},
   "outputs": [],
   "source": [
    "plot_x_vs_y(fitted, residuals, \"Fitted\", \"Residuals\", add_zero_line=True, add_lowess=True)"
   ]
  },
  {
   "cell_type": "markdown",
   "metadata": {},
   "source": [
    "Failing assumption implies systematic error. This means:\n",
    "* the relationship between response and regressors may be nonlinear\n",
    "* some important regressors may be missing\n",
    "* some important interactions may be missing"
   ]
  },
  {
   "cell_type": "markdown",
   "metadata": {},
   "source": [
    "## 1.3 Assumption 2\n",
    "\n",
    "Var(*e<sub>i</sub>*) = &sigma;<sup>2</sup>\n",
    "\n",
    "In other words: variance of residuals should be constant"
   ]
  },
  {
   "cell_type": "markdown",
   "metadata": {},
   "source": [
    "### 1.3.1 Fitted vs residuals: heteroskedasticity check"
   ]
  },
  {
   "cell_type": "code",
   "execution_count": null,
   "metadata": {},
   "outputs": [],
   "source": [
    "# Let's extend our plot_fitted_vs_residuals function\n",
    "def plot_fitted_vs_residuals(fitted: np.ndarray, residuals: np.ndarray, \n",
    "                             mean: bool=True, \n",
    "                             width = 100, \n",
    "                          bin_type = None) -> None:\n",
    "\n",
    "    ax = plot_x_vs_y(fitted, residuals, \"Fitted\", \"Residuals\")\n",
    "    \n",
    "    if mean:\n",
    "        ax.hlines(0, xmin=min(fitted), xmax=max(fitted), colors=\"orange\")\n",
    "    if bin_type == \"window\":\n",
    "        ax.vlines(np.arange(min(fitted), max(fitted)+width, width), \n",
    "                  ymin=min(residuals), ymax=max(residuals), colors=\"red\")\n",
    "    elif bin_type == \"points\": \n",
    "        width = round(width)\n",
    "        ax.vlines(np.sort(fitted)[::width], \n",
    "                      ymin=min(residuals), ymax=max(residuals), colors=\"red\")\n",
    "    plt.title('Fitted vs Residuals')\n",
    "\n",
    "plot_fitted_vs_residuals(fitted, residuals, mean=False, width=100, bin_type='window')"
   ]
  },
  {
   "cell_type": "markdown",
   "metadata": {},
   "source": [
    "### 1.3.2 Residuals: heteroskedasticity check"
   ]
  },
  {
   "cell_type": "code",
   "execution_count": null,
   "metadata": {},
   "outputs": [],
   "source": [
    "# TODO: Try different widths\n",
    "bins, variances, counts = calculate_variances(fitted, residuals, 100, bin_type=\"points\")\n",
    "\n",
    "plt.bar(bins, variances, width=np.diff(bins).min()*0.8, align='edge')\n",
    "plt.title('Variances')\n",
    "plt.show()\n"
   ]
  },
  {
   "cell_type": "markdown",
   "metadata": {},
   "source": [
    "Failing assumption implies heteroskedasticity. This means:\n",
    "* the error estimates are not valid =>\n",
    "* the confidence intervals are not valid =>\n",
    "* p-values are not valid\n",
    "* coefficients **are valid**  \n",
    "\n",
    "In short: your expected value remains unchanged. But you have no viable insights on model unsertanity."
   ]
  },
  {
   "cell_type": "markdown",
   "metadata": {},
   "source": [
    "## 1.4 Assumption 3\n",
    "*e<sub>i</sub>* ~ *N*(0, &sigma;<sup>2</sup>)\n",
    "\n",
    "In other words: residuals are normally distributed"
   ]
  },
  {
   "cell_type": "markdown",
   "metadata": {},
   "source": [
    "### 1.4.1 Empirical distribution"
   ]
  },
  {
   "cell_type": "code",
   "execution_count": null,
   "metadata": {},
   "outputs": [],
   "source": [
    "plot_residuals_distribution(residuals, bins=40)"
   ]
  },
  {
   "cell_type": "markdown",
   "metadata": {},
   "source": [
    "### 1.4.2 QQ-plot"
   ]
  },
  {
   "cell_type": "code",
   "execution_count": null,
   "metadata": {},
   "outputs": [],
   "source": [
    "fig = sm.qqplot(residuals/np.std(residuals), line='45')"
   ]
  },
  {
   "cell_type": "markdown",
   "metadata": {},
   "source": [
    "Failing assumption implies systematic deviation. This means:\n",
    "* model is failing to capture certain range of values\n",
    "* model structure is not correct\n",
    "\n",
    "In practice:\n",
    "* few data points that are slightly \"off the line\" near the ends common, and usually tolerable\n",
    "* skewed residuals need correction\n",
    "* long-tailed, but symmetrical residuals are can be tolerable"
   ]
  },
  {
   "cell_type": "markdown",
   "metadata": {},
   "source": [
    "## 1.5 Assumption 4\n",
    "Cov(*e<sub>i</sub>*, *e<sub>j</sub>*) = 0\n",
    "\n",
    "In other words: errors are not correlated **WITH EACH OTHER**\n"
   ]
  },
  {
   "cell_type": "markdown",
   "metadata": {},
   "source": [
    "### 1.5.1 Residuals over time"
   ]
  },
  {
   "cell_type": "code",
   "execution_count": null,
   "metadata": {},
   "outputs": [],
   "source": [
    "plot_x_over_time(residuals, \"Residuals\")"
   ]
  },
  {
   "cell_type": "markdown",
   "metadata": {},
   "source": [
    "### 1.5.2 ACF plot\n",
    "Check residuals vs lagged residuals"
   ]
  },
  {
   "cell_type": "code",
   "execution_count": null,
   "metadata": {},
   "outputs": [],
   "source": [
    "fig = sg.tsaplots.plot_acf(residuals)"
   ]
  },
  {
   "cell_type": "markdown",
   "metadata": {},
   "source": [
    "Failing assumption means:\n",
    "* estimates are unbiased => expected value for coefficients and predictions is ok\n",
    "* the estimate is not efficient => there are better regression models \n",
    "* standard errors are biased => confidence intervals, test statistics, and p-values are flawed\n"
   ]
  },
  {
   "cell_type": "markdown",
   "metadata": {},
   "source": [
    "## 1.6 Assumption 5 (Optional)\n",
    "No multicollinearlty\n",
    "\n",
    "Regression does not have a unique solution if regressors are exactly linearly dependent. Often, we will find not perfect, but a strong correlation between variables. Multicollinearity means that there is such strong, yet not perfect, relation between the columns of X.\n",
    "\n",
    "Under multicollinity, unique solution exists. However, it performs poorly in practice. "
   ]
  },
  {
   "cell_type": "markdown",
   "metadata": {},
   "source": [
    "### 1.6.1 Correlation plot"
   ]
  },
  {
   "cell_type": "code",
   "execution_count": null,
   "metadata": {},
   "outputs": [],
   "source": [
    "def plot_correlations(X: np.ndarray) -> None:\n",
    "    df = pd.DataFrame(X)\n",
    "\n",
    "    f = plt.figure(figsize=(8, 8))\n",
    "    plt.matshow(df.corr(), fignum=f.number)\n",
    "    plt.xticks(range(df.select_dtypes(['number']).shape[1]), df.select_dtypes(['number']).columns, fontsize=14, rotation=45)\n",
    "    plt.yticks(range(df.select_dtypes(['number']).shape[1]), df.select_dtypes(['number']).columns, fontsize=14)\n",
    "    cb = plt.colorbar()\n",
    "    cb.ax.tick_params(labelsize=14)\n",
    "    plt.title('Correlation Matrix', fontsize=16);\n",
    "\n",
    "plot_correlations(X_train)"
   ]
  },
  {
   "cell_type": "markdown",
   "metadata": {},
   "source": [
    "Multicollinearlity means:\n",
    "* estimated coefficients have large standard errors\n",
    "* the coefficients are imprecise\n",
    "* it happens that none of the regressors is significant!\n",
    "* small change in data can result in big change in results"
   ]
  },
  {
   "cell_type": "markdown",
   "metadata": {},
   "source": [
    "# Exercise 1: Model diagnostics\n",
    "\n",
    "In this exercise, we will practice model diagnostics. "
   ]
  },
  {
   "cell_type": "markdown",
   "metadata": {},
   "source": [
    "# Exercise 2:  Transformations\n",
    "\n",
    "## Transformations\n",
    "\n",
    "The idea behing data trasformations is to achieve a mean function that is linear in the transformed scale.\n",
    "\n",
    "The most commonly used methods to transform variables are:\n",
    "* Logarithmic transformation - np.log(X)\n",
    "* Reciprocal transformation - 1 / X\n",
    "* Square root transformation - X**(1/2)\n",
    "* Exponential transformation (more general, you can use any exponent)\n",
    "* Box-Cox transformation\n",
    "\n",
    "\n",
    "## Exercise\n",
    "\n",
    "In this exercise, we will practice variables transformation. \n",
    "\n",
    "First, load datasets from `data/ex1`.  \n",
    "Then, for each dataset:  \n",
    "* fit linear model: y = f(x) + e  \n",
    "* calculate residuals  \n",
    "* perform model diagnostics  \n",
    "* try to improve your model using data transformations  "
   ]
  },
  {
   "cell_type": "code",
   "execution_count": null,
   "metadata": {},
   "outputs": [],
   "source": [
    "# Load data\n",
    "\n",
    "# Your code\n"
   ]
  },
  {
   "cell_type": "markdown",
   "metadata": {},
   "source": [
    "# Exercise 3: Fit your best model\n",
    "\n",
    "Now, we will wrap it all together. Let's try to fit our best model to the dataset about rental prices.  \n",
    "The data is available in `data/rent.csv`.\n",
    "\n",
    "Procedure:\n",
    "* Maka a model hypothesis\n",
    "* Fit a model\n",
    "* Run model diagnostics\n",
    "* Start again"
   ]
  },
  {
   "cell_type": "code",
   "execution_count": null,
   "metadata": {},
   "outputs": [],
   "source": [
    "# Your code\n"
   ]
  }
 ],
 "metadata": {
  "interpreter": {
   "hash": "f86fab27d6a8300e11571769dc7d43aaa28c36089531d106e36d5cf601e6df0f"
  },
  "kernelspec": {
   "display_name": "Python 3",
   "language": "python",
   "name": "python3"
  },
  "language_info": {
   "codemirror_mode": {
    "name": "ipython",
    "version": 3
   },
   "file_extension": ".py",
   "mimetype": "text/x-python",
   "name": "python",
   "nbconvert_exporter": "python",
   "pygments_lexer": "ipython3",
   "version": "3.6.8"
  }
 },
 "nbformat": 4,
 "nbformat_minor": 4
}
