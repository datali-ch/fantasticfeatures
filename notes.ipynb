{
 "cells": [
  {
   "cell_type": "markdown",
   "metadata": {},
   "source": [
    "#### What is $R^2$, $r^2$"
   ]
  },
  {
   "cell_type": "markdown",
   "metadata": {},
   "source": [
    "$R^2$: percentage of variance explained: 1- sum((y_i hat -y_i)^2) / sum((y_i -y_mean)^2) \\\n",
    "$R^2$ equivalent definition: sum((y_i hat -y_mean)^2) / sum((y_i -y_mean)^2) \\\n",
    "\n",
    "yhat : predicted"
   ]
  },
  {
   "cell_type": "markdown",
   "metadata": {},
   "source": [
    "The graphical intuition behind R2 is shown in Figure 2.2. Suppose you want to predict y. If you don’t\n",
    "know x, then your best prediction is ¯y but the variability in this prediction is high. If you do know x, then\n",
    "your prediction will be given by the regression fit. This prediction will be less variable provided there is\n",
    "some relationship between x and y. R2 is one minus the ratio of the sum of squares for these two predictions.\n",
    "Thus for perfect predictions the ratio will be zero and R2 will be one."
   ]
  },
  {
   "cell_type": "markdown",
   "metadata": {},
   "source": [
    "Watch out: for intercept=0, R^2 becomes invalid! "
   ]
  },
  {
   "cell_type": "markdown",
   "metadata": {},
   "source": [
    "#### Gauss-Markov theorem: \n",
    "The Gauss-Markov theorem shows that the least squares estimate beta hat is a good choice, but if the errors\n",
    "are correlated or have unequal variance, there will be better estimators. Even if the errors behave but are\n",
    "non-normal then non-linear or biased estimates may work better in some sense. So this theorem does not\n",
    "tell one to use least squares all the time, it just strongly suggests it unless there is some strong reason to do\n",
    "otherwise.\n",
    "Situations where estimators other than ordinary least squares should be considered are\n",
    "1. When the errors are correlated or have unequal variance, generalized least squares should be used.\n",
    "2. When the error distribution is long-tailed, then robust estimates might be used. Robust estimates are\n",
    "typically not linear in y.\n",
    "3. When the predictors are highly correlated (collinear), then biased estimators such as ridge regression\n",
    "might be preferable."
   ]
  },
  {
   "cell_type": "markdown",
   "metadata": {},
   "source": [
    "#### Assumptions about the distributions of errors"
   ]
  },
  {
   "cell_type": "markdown",
   "metadata": {},
   "source": [
    "\n",
    "#### Testing which model is better - F-test (Faraway p.27)"
   ]
  },
  {
   "cell_type": "markdown",
   "metadata": {},
   "source": [
    "RSS = $\\sum (\\hat y_i  -y_i)^2 $"
   ]
  },
  {
   "cell_type": "markdown",
   "metadata": {},
   "source": [
    "We have big model $\\Omega$ with $q$ parameters, and $\\omega$ with $p$ parameters (number of parameters is the number of predictors plus one). Their degrees of freedom: $df_\\omega = n-p$, $df_\\Omega = n-q$. Watch out for alternate definitions where $df = obs - par - 1$ The same test applies when $\\omega$ is not only subset of $\\Omega$, but also subspace \n",
    "\n",
    "Both explain the same $n$ observations. To compare them, do the F test:\n",
    "\n",
    "1. Calculate their RSS \n",
    "1. numerator: difference of RSS over difference of dof\n",
    "1. denominator: RSS of big model vs dof of big model"
   ]
  },
  {
   "cell_type": "markdown",
   "metadata": {},
   "source": [
    "Where did we get it from? \n",
    "1. Cochran’s theorem: under the assumption of normality, the various quadratic forms are independent and $\\chi^2$ distributed.\n",
    "1. We have a term comparing relative improvement in sums of squares (percent improvement compared to the old model)\n",
    "1. we have a term coming from the $\\chi^2$ distributions for different DOF"
   ]
  },
  {
   "cell_type": "markdown",
   "metadata": {},
   "source": [
    "$$ F = \\frac{ (RSS_\\omega - RSS_\\Omega) / (q - p) }{RSS_\\Omega / (n-q)} = \\\\ \\frac{ (RSS_\\omega - RSS_\\Omega) / (df_\\omega - df_\\Omega) }{RSS_\\Omega / df_\\Omega}$$"
   ]
  },
  {
   "cell_type": "markdown",
   "metadata": {},
   "source": [
    "If the regression model has been calculated with weights, then replace $RSS$ with $\\chi^2$, the weighted sum of squared residuals"
   ]
  },
  {
   "cell_type": "markdown",
   "metadata": {},
   "source": [
    "The null hypothesis is rejected if the F calculated from the data is greater than the critical value of the F-distribution for some desired false-rejection probability (e.g. 0.05)"
   ]
  },
  {
   "cell_type": "markdown",
   "metadata": {},
   "source": [
    "`Statsmodels` gives this F-statistic along its p-value (chance of obtaining this F-value by coincidence). This takes all the coeffs at once. Can be used to run more detailed tests: https://www.statsmodels.org/dev/generated/statsmodels.regression.linear_model.OLSResults.f_test.html \n"
   ]
  },
  {
   "cell_type": "code",
   "execution_count": 3,
   "metadata": {},
   "outputs": [
    {
     "name": "stdout",
     "output_type": "stream",
     "text": [
      "[[0. 1. 0. 0. 0. 0. 0.]\n",
      " [0. 0. 1. 0. 0. 0. 0.]\n",
      " [0. 0. 0. 1. 0. 0. 0.]\n",
      " [0. 0. 0. 0. 1. 0. 0.]\n",
      " [0. 0. 0. 0. 0. 1. 0.]\n",
      " [0. 0. 0. 0. 0. 0. 1.]]\n",
      "<F test: F=array([[330.28533901]]), p=4.984030543699366e-10, df_denom=9, df_num=6>\n",
      "330.28533923445286 4.98403052873393e-10\n",
      "[[ 0  0  1 -1  0  0  0]\n",
      " [ 0  0  0  0  0  1 -1]]\n",
      "<F test: F=array([[9.74046187]]), p=0.005605288531729574, df_denom=9, df_num=2>\n"
     ]
    }
   ],
   "source": [
    "import numpy as np\n",
    "import statsmodels.api as sm\n",
    "data = sm.datasets.longley.load()\n",
    "data.exog = sm.add_constant(data.exog)\n",
    "results = sm.OLS(data.endog, data.exog).fit()\n",
    "\n",
    "# This tests that each coefficient is jointly statistically significantly different from zero.\n",
    "A = np.identity(len(results.params))\n",
    "A = A[1:,:]\n",
    "print(A)\n",
    "print(results.f_test(A))\n",
    "# <F test: F=array([[ 330.28533923]]), p=4.984030528700946e-10, df_denom=9, df_num=6>\n",
    "print(results.fvalue, results.f_pvalue)\n",
    "# This tests that the coefficient on the 2nd and 3rd regressors are equal \n",
    "# and jointly that the coefficient on the 5th and 6th regressors are equal.\n",
    "B = np.array(([0,0,1,-1,0,0,0],[0,0,0,0,0,1,-1]))\n",
    "print(B)\n",
    "print(results.f_test(B))\n",
    "# <F test: F=array([[ 9.74046187]]), p=0.005605288531708235, df_denom=9, df_num=2>"
   ]
  },
  {
   "cell_type": "markdown",
   "metadata": {},
   "source": [
    "Another way is to run ANOVA to compare two nested models (but this works only for formula api): "
   ]
  },
  {
   "cell_type": "code",
   "execution_count": 8,
   "metadata": {},
   "outputs": [],
   "source": [
    "dta = sm.datasets.longley.load_pandas().data\n",
    "\n",
    "from statsmodels.formula.api import ols\n",
    "formula = 'TOTEMP ~ GNPDEFL + GNP + UNEMP + ARMED + POP + YEAR'\n",
    "results = ols(formula, dta).fit()\n",
    "hypotheses = '(GNPDEFL = GNP), (UNEMP = 2), (YEAR/1829 = 1)'\n",
    "f_test = results.f_test(hypotheses)\n",
    "print(f_test)"
   ]
  },
  {
   "cell_type": "code",
   "execution_count": 14,
   "metadata": {},
   "outputs": [
    {
     "name": "stdout",
     "output_type": "stream",
     "text": [
      "                            OLS Regression Results                            \n",
      "==============================================================================\n",
      "Dep. Variable:                 TOTEMP   R-squared:                       0.995\n",
      "Model:                            OLS   Adj. R-squared:                  0.992\n",
      "Method:                 Least Squares   F-statistic:                     330.3\n",
      "Date:                Sat, 23 Oct 2021   Prob (F-statistic):           4.98e-10\n",
      "Time:                        22:42:06   Log-Likelihood:                -109.62\n",
      "No. Observations:                  16   AIC:                             233.2\n",
      "Df Residuals:                       9   BIC:                             238.6\n",
      "Df Model:                           6                                         \n",
      "Covariance Type:            nonrobust                                         \n",
      "==============================================================================\n",
      "                 coef    std err          t      P>|t|      [0.025      0.975]\n",
      "------------------------------------------------------------------------------\n",
      "Intercept  -3.482e+06    8.9e+05     -3.911      0.004    -5.5e+06   -1.47e+06\n",
      "GNPDEFL       15.0619     84.915      0.177      0.863    -177.029     207.153\n",
      "GNP           -0.0358      0.033     -1.070      0.313      -0.112       0.040\n",
      "UNEMP         -2.0202      0.488     -4.136      0.003      -3.125      -0.915\n",
      "ARMED         -1.0332      0.214     -4.822      0.001      -1.518      -0.549\n",
      "POP           -0.0511      0.226     -0.226      0.826      -0.563       0.460\n",
      "YEAR        1829.1515    455.478      4.016      0.003     798.788    2859.515\n",
      "==============================================================================\n",
      "Omnibus:                        0.749   Durbin-Watson:                   2.559\n",
      "Prob(Omnibus):                  0.688   Jarque-Bera (JB):                0.684\n",
      "Skew:                           0.420   Prob(JB):                        0.710\n",
      "Kurtosis:                       2.434   Cond. No.                     4.86e+09\n",
      "==============================================================================\n",
      "\n",
      "Warnings:\n",
      "[1] Standard Errors assume that the covariance matrix of the errors is correctly specified.\n",
      "[2] The condition number is large, 4.86e+09. This might indicate that there are\n",
      "strong multicollinearity or other numerical problems.\n"
     ]
    }
   ],
   "source": [
    "print(results.summary())"
   ]
  },
  {
   "cell_type": "markdown",
   "metadata": {},
   "source": [
    "Example: \n",
    "1. Is full model better than prediction by the mean? $H_0$ as all coeffs = 0, $H_1$ (alternate) that the other model performs better. If null rejected, this still doesn't mean that the alternative model is the best model. "
   ]
  },
  {
   "cell_type": "code",
   "execution_count": 34,
   "metadata": {},
   "outputs": [],
   "source": [
    "SSY = ((dta['TOTEMP'] - dta['TOTEMP'].mean())**2).sum()\n",
    "RSS = ((results.resid)**2).sum() # equal to results.ssr"
   ]
  },
  {
   "cell_type": "code",
   "execution_count": 60,
   "metadata": {},
   "outputs": [
    {
     "data": {
      "text/plain": [
       "330.28533923446736"
      ]
     },
     "execution_count": 60,
     "metadata": {},
     "output_type": "execute_result"
    }
   ],
   "source": [
    "((SSY - RSS) / ((results.df_model+1) - 1)) / (RSS / (results.nobs - (results.df_model+1)))"
   ]
  },
  {
   "cell_type": "code",
   "execution_count": 85,
   "metadata": {},
   "outputs": [
    {
     "name": "stdout",
     "output_type": "stream",
     "text": [
      "92936.00616735773 12333921.733333332 30695400.324082296\n"
     ]
    }
   ],
   "source": [
    "print(results.mse_resid, results.mse_total, results.mse_model)"
   ]
  },
  {
   "cell_type": "code",
   "execution_count": 86,
   "metadata": {},
   "outputs": [
    {
     "name": "stdout",
     "output_type": "stream",
     "text": [
      "0.4018166110593666\n"
     ]
    }
   ],
   "source": [
    "print(results.mse_total / results.mse_model)"
   ]
  },
  {
   "cell_type": "markdown",
   "metadata": {},
   "source": [
    "This is what we are given in the table as well:"
   ]
  },
  {
   "cell_type": "code",
   "execution_count": 61,
   "metadata": {},
   "outputs": [
    {
     "name": "stdout",
     "output_type": "stream",
     "text": [
      "<F test: F=array([[330.28533925]]), p=4.984030527848457e-10, df_denom=9, df_num=6>\n"
     ]
    }
   ],
   "source": [
    "print(results.f_test(A))\n"
   ]
  },
  {
   "cell_type": "markdown",
   "metadata": {},
   "source": [
    "#### Influential points"
   ]
  },
  {
   "cell_type": "code",
   "execution_count": 78,
   "metadata": {},
   "outputs": [
    {
     "data": {
      "image/png": "[encoded data removed]",
      "text/plain": [
       "<Figure size 432x288 with 1 Axes>"
      ]
     },
     "execution_count": 78,
     "metadata": {},
     "output_type": "execute_result"
    },
    {
     "data": {
      "image/png": "[encoded data removed]",
      "text/plain": [
       "<Figure size 432x288 with 1 Axes>"
      ]
     },
     "metadata": {
      "needs_background": "light"
     },
     "output_type": "display_data"
    }
   ],
   "source": [
    "sm.graphics.influence_plot(results)"
   ]
  }
 ],
 "metadata": {
  "kernelspec": {
   "display_name": "Python 3",
   "language": "python",
   "name": "python3"
  },
  "language_info": {
   "codemirror_mode": {
    "name": "ipython",
    "version": 3
   },
   "file_extension": ".py",
   "mimetype": "text/x-python",
   "name": "python",
   "nbconvert_exporter": "python",
   "pygments_lexer": "ipython3",
   "version": "3.6.8"
  }
 },
 "nbformat": 4,
 "nbformat_minor": 4
}
