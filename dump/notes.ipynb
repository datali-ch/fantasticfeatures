{
 "cells": [
  {
   "cell_type": "markdown",
   "metadata": {},
   "source": [
    "### What is $R^2$, $r^2$"
   ]
  },
  {
   "cell_type": "markdown",
   "metadata": {},
   "source": [
    "$R^2$: percentage of variance explained: 1- sum((y_i hat -y_i)^2) / sum((y_i -y_mean)^2) \\\n",
    "$R^2$ equivalent definition: sum((y_i hat -y_mean)^2) / sum((y_i -y_mean)^2) \\\n",
    "\n",
    "yhat : predicted"
   ]
  },
  {
   "cell_type": "markdown",
   "metadata": {},
   "source": [
    "The graphical intuition behind R2 is shown in Figure 2.2. Suppose you want to predict y. If you don’t\n",
    "know x, then your best prediction is ¯y but the variability in this prediction is high. If you do know x, then\n",
    "your prediction will be given by the regression fit. This prediction will be less variable provided there is\n",
    "some relationship between x and y. R2 is one minus the ratio of the sum of squares for these two predictions.\n",
    "Thus for perfect predictions the ratio will be zero and R2 will be one."
   ]
  },
  {
   "cell_type": "markdown",
   "metadata": {},
   "source": [
    "Watch out: for intercept=0, R^2 becomes invalid! "
   ]
  },
  {
   "cell_type": "markdown",
   "metadata": {},
   "source": [
    "### Gauss-Markov theorem: \n",
    "The Gauss-Markov theorem shows that the least squares estimate beta hat is a good choice, but if the errors\n",
    "are correlated or have unequal variance, there will be better estimators. Even if the errors behave but are\n",
    "non-normal then non-linear or biased estimates may work better in some sense. So this theorem does not\n",
    "tell one to use least squares all the time, it just strongly suggests it unless there is some strong reason to do\n",
    "otherwise.\n",
    "Situations where estimators other than ordinary least squares should be considered are\n",
    "1. When the errors are correlated or have unequal variance, generalized least squares should be used.\n",
    "2. When the error distribution is long-tailed, then robust estimates might be used. Robust estimates are\n",
    "typically not linear in y.\n",
    "3. When the predictors are highly correlated (collinear), then biased estimators such as ridge regression\n",
    "might be preferable."
   ]
  },
  {
   "cell_type": "markdown",
   "metadata": {},
   "source": [
    "#### Assumptions about the distributions of errors"
   ]
  },
  {
   "cell_type": "markdown",
   "metadata": {},
   "source": [
    "\n",
    "### Testing which model is better - F-test (Faraway p.27)"
   ]
  },
  {
   "cell_type": "markdown",
   "metadata": {},
   "source": [
    "RSS = $\\sum (\\hat y_i  -y_i)^2 $"
   ]
  },
  {
   "cell_type": "markdown",
   "metadata": {},
   "source": [
    "We have big model $\\Omega$ with $q$ parameters, and $\\omega$ with $p$ parameters (number of parameters is the number of predictors plus one). Their degrees of freedom: $df_\\omega = n-p$, $df_\\Omega = n-q$. Watch out for alternate definitions where $df = obs - par - 1$ The same test applies when $\\omega$ is not only subset of $\\Omega$, but also subspace \n",
    "\n",
    "Both explain the same $n$ observations. To compare them, do the F test:\n",
    "\n",
    "1. Calculate their RSS \n",
    "1. numerator: difference of RSS over difference of dof\n",
    "1. denominator: RSS of big model vs dof of big model"
   ]
  },
  {
   "cell_type": "markdown",
   "metadata": {},
   "source": [
    "Where did we get it from? \n",
    "1. Cochran’s theorem: under the assumption of normality, the various quadratic forms are independent and $\\chi^2$ distributed.\n",
    "1. We have a term comparing relative improvement in sums of squares (percent improvement compared to the old model)\n",
    "1. we have a term coming from the $\\chi^2$ distributions for different DOF"
   ]
  },
  {
   "cell_type": "markdown",
   "metadata": {},
   "source": [
    "$$ F = \\frac{ (RSS_\\omega - RSS_\\Omega) / (q - p) }{RSS_\\Omega / (n-q)} = \\\\ \\frac{ (RSS_\\omega - RSS_\\Omega) / (df_\\omega - df_\\Omega) }{RSS_\\Omega / df_\\Omega}$$"
   ]
  },
  {
   "cell_type": "markdown",
   "metadata": {},
   "source": [
    "If the regression model has been calculated with weights, then replace $RSS$ with $\\chi^2$, the weighted sum of squared residuals"
   ]
  },
  {
   "cell_type": "markdown",
   "metadata": {},
   "source": [
    "The null hypothesis is rejected if the F calculated from the data is greater than the critical value of the F-distribution for some desired false-rejection probability (e.g. 0.05)"
   ]
  },
  {
   "cell_type": "markdown",
   "metadata": {},
   "source": [
    "`Statsmodels` gives this F-statistic along its p-value (chance of obtaining this F-value by coincidence). This takes all the coeffs at once. Can be used to run more detailed tests: https://www.statsmodels.org/dev/generated/statsmodels.regression.linear_model.OLSResults.f_test.html \n"
   ]
  },
  {
   "cell_type": "code",
   "execution_count": 29,
   "metadata": {},
   "outputs": [
    {
     "name": "stdout",
     "output_type": "stream",
     "text": [
      "[[0. 1. 0. 0. 0. 0. 0.]\n",
      " [0. 0. 1. 0. 0. 0. 0.]\n",
      " [0. 0. 0. 1. 0. 0. 0.]\n",
      " [0. 0. 0. 0. 1. 0. 0.]\n",
      " [0. 0. 0. 0. 0. 1. 0.]\n",
      " [0. 0. 0. 0. 0. 0. 1.]]\n",
      "<F test: F=array([[330.28533901]]), p=4.984030543699366e-10, df_denom=9, df_num=6>\n",
      "330.28533923445286 4.98403052873393e-10\n",
      "[[ 0  0  1 -1  0  0  0]\n",
      " [ 0  0  0  0  0  1 -1]]\n",
      "<F test: F=array([[9.74046187]]), p=0.005605288531729574, df_denom=9, df_num=2>\n"
     ]
    },
    {
     "name": "stderr",
     "output_type": "stream",
     "text": [
      "C:\\Users\\TK\\Anaconda3\\lib\\site-packages\\statsmodels\\datasets\\utils.py:344: FutureWarning: load will return datasets containing pandas DataFrames and Series in the Future.  To suppress this message, specify as_pandas=False\n",
      "  FutureWarning)\n"
     ]
    }
   ],
   "source": [
    "import numpy as np\n",
    "import statsmodels.api as sm\n",
    "data = sm.datasets.longley.load()\n",
    "data.exog = sm.add_constant(data.exog)\n",
    "results = sm.OLS(data.endog, data.exog).fit()\n",
    "\n",
    "# This tests that each coefficient is jointly statistically significantly different from zero.\n",
    "A = np.identity(len(results.params))\n",
    "A = A[1:,:]\n",
    "print(A)\n",
    "print(results.f_test(A))\n",
    "# <F test: F=array([[ 330.28533923]]), p=4.984030528700946e-10, df_denom=9, df_num=6>\n",
    "print(results.fvalue, results.f_pvalue)\n",
    "# This tests that the coefficient on the 2nd and 3rd regressors are equal \n",
    "# and jointly that the coefficient on the 5th and 6th regressors are equal.\n",
    "B = np.array(([0,0,1,-1,0,0,0],[0,0,0,0,0,1,-1]))\n",
    "print(B)\n",
    "print(results.f_test(B))\n",
    "# <F test: F=array([[ 9.74046187]]), p=0.005605288531708235, df_denom=9, df_num=2>"
   ]
  },
  {
   "cell_type": "markdown",
   "metadata": {},
   "source": [
    "Another way is to run ANOVA to compare two nested models (but this works only for formula api): "
   ]
  },
  {
   "cell_type": "code",
   "execution_count": 2,
   "metadata": {},
   "outputs": [
    {
     "name": "stdout",
     "output_type": "stream",
     "text": [
      "<F test: F=array([[144.17976065]]), p=6.322026217384752e-08, df_denom=9, df_num=3>\n"
     ]
    }
   ],
   "source": [
    "dta = sm.datasets.longley.load_pandas().data\n",
    "\n",
    "from statsmodels.formula.api import ols\n",
    "formula = 'TOTEMP ~ GNPDEFL + GNP + UNEMP + ARMED + POP + YEAR'\n",
    "results = ols(formula, dta).fit()\n",
    "hypotheses = '(GNPDEFL = GNP), (UNEMP = 2), (YEAR/1829 = 1)'\n",
    "f_test = results.f_test(hypotheses)\n",
    "print(f_test)"
   ]
  },
  {
   "cell_type": "code",
   "execution_count": 3,
   "metadata": {},
   "outputs": [
    {
     "name": "stdout",
     "output_type": "stream",
     "text": [
      "                            OLS Regression Results                            \n",
      "==============================================================================\n",
      "Dep. Variable:                 TOTEMP   R-squared:                       0.995\n",
      "Model:                            OLS   Adj. R-squared:                  0.992\n",
      "Method:                 Least Squares   F-statistic:                     330.3\n",
      "Date:                Mon, 25 Oct 2021   Prob (F-statistic):           4.98e-10\n",
      "Time:                        19:24:06   Log-Likelihood:                -109.62\n",
      "No. Observations:                  16   AIC:                             233.2\n",
      "Df Residuals:                       9   BIC:                             238.6\n",
      "Df Model:                           6                                         \n",
      "Covariance Type:            nonrobust                                         \n",
      "==============================================================================\n",
      "                 coef    std err          t      P>|t|      [0.025      0.975]\n",
      "------------------------------------------------------------------------------\n",
      "Intercept  -3.482e+06    8.9e+05     -3.911      0.004    -5.5e+06   -1.47e+06\n",
      "GNPDEFL       15.0619     84.915      0.177      0.863    -177.029     207.153\n",
      "GNP           -0.0358      0.033     -1.070      0.313      -0.112       0.040\n",
      "UNEMP         -2.0202      0.488     -4.136      0.003      -3.125      -0.915\n",
      "ARMED         -1.0332      0.214     -4.822      0.001      -1.518      -0.549\n",
      "POP           -0.0511      0.226     -0.226      0.826      -0.563       0.460\n",
      "YEAR        1829.1515    455.478      4.016      0.003     798.788    2859.515\n",
      "==============================================================================\n",
      "Omnibus:                        0.749   Durbin-Watson:                   2.559\n",
      "Prob(Omnibus):                  0.688   Jarque-Bera (JB):                0.684\n",
      "Skew:                           0.420   Prob(JB):                        0.710\n",
      "Kurtosis:                       2.434   Cond. No.                     4.86e+09\n",
      "==============================================================================\n",
      "\n",
      "Warnings:\n",
      "[1] Standard Errors assume that the covariance matrix of the errors is correctly specified.\n",
      "[2] The condition number is large, 4.86e+09. This might indicate that there are\n",
      "strong multicollinearity or other numerical problems.\n"
     ]
    },
    {
     "name": "stderr",
     "output_type": "stream",
     "text": [
      "C:\\Users\\TK\\Anaconda3\\lib\\site-packages\\scipy\\stats\\stats.py:1535: UserWarning: kurtosistest only valid for n>=20 ... continuing anyway, n=16\n",
      "  \"anyway, n=%i\" % int(n))\n"
     ]
    }
   ],
   "source": [
    "print(results.summary())"
   ]
  },
  {
   "cell_type": "markdown",
   "metadata": {},
   "source": [
    "Example: \n",
    "1. Is full model better than prediction by the mean? $H_0$ as all coeffs = 0, $H_1$ (alternate) that the other model performs better. If null rejected, this still doesn't mean that the alternative model is the best model. "
   ]
  },
  {
   "cell_type": "code",
   "execution_count": 4,
   "metadata": {},
   "outputs": [],
   "source": [
    "SSY = ((dta['TOTEMP'] - dta['TOTEMP'].mean())**2).sum()\n",
    "RSS = ((results.resid)**2).sum() # equal to results.ssr"
   ]
  },
  {
   "cell_type": "code",
   "execution_count": 5,
   "metadata": {},
   "outputs": [
    {
     "data": {
      "text/plain": [
       "330.28533923446736"
      ]
     },
     "execution_count": 5,
     "metadata": {},
     "output_type": "execute_result"
    }
   ],
   "source": [
    "((SSY - RSS) / ((results.df_model+1) - 1)) / (RSS / (results.nobs - (results.df_model+1)))"
   ]
  },
  {
   "cell_type": "code",
   "execution_count": 6,
   "metadata": {},
   "outputs": [
    {
     "name": "stdout",
     "output_type": "stream",
     "text": [
      "92936.00616735773 12333921.733333332 30695400.324082296\n"
     ]
    }
   ],
   "source": [
    "print(results.mse_resid, results.mse_total, results.mse_model)"
   ]
  },
  {
   "cell_type": "code",
   "execution_count": 7,
   "metadata": {},
   "outputs": [
    {
     "name": "stdout",
     "output_type": "stream",
     "text": [
      "0.4018166110593666\n"
     ]
    }
   ],
   "source": [
    "print(results.mse_total / results.mse_model)"
   ]
  },
  {
   "cell_type": "markdown",
   "metadata": {},
   "source": [
    "This is what we are given in the table as well:"
   ]
  },
  {
   "cell_type": "code",
   "execution_count": 8,
   "metadata": {},
   "outputs": [
    {
     "name": "stdout",
     "output_type": "stream",
     "text": [
      "<F test: F=array([[330.28533925]]), p=4.984030527848457e-10, df_denom=9, df_num=6>\n"
     ]
    }
   ],
   "source": [
    "print(results.f_test(A))\n"
   ]
  },
  {
   "cell_type": "markdown",
   "metadata": {},
   "source": [
    "Generally, caution regarding interpreting F-tests about a coeff==0: *Furthermore, we know that the more data we have, the greater the power of our tests. Even small differences from zero will be detected with a large sample. Now if we fail to reject the null hypothesis, we might simply conclude that we didn’t have enough data to get a significant result. According to this view, the hypothesis test just becomes a test of sample size. For this reason, I prefer confidence intervals.*"
   ]
  },
  {
   "cell_type": "markdown",
   "metadata": {},
   "source": [
    "#### Confidence intervals"
   ]
  },
  {
   "cell_type": "markdown",
   "metadata": {},
   "source": [
    "For the confidence intervals and regions that we will consider here, the following relationship holds. For a $100(1-\\alpha)%$ confidence region, any point that lies within the region represents a null hypothesis that would not be rejected at the $100\\alpha%$ level while every point outside represents a null hypothesis that would be rejected. So, in a sense, the confidence region provides a lot more information than a single hypothesis test in that it tells us the outcome of a whole range of hypotheses about the parameter values. Of course, by selecting the particular level of confidence for the\n",
    "region, we can only make tests at that level and we cannot determine the p-value for any given test simply\n",
    "from the region. However, since it is dangerous to read too much into the relative size of p-values (as far as\n",
    "how much evidence they provide against the null), this loss is not particularly important.\n",
    "\n",
    "The confidence region tells us about plausible values for the parameters in a way that the hypothesis test\n",
    "cannot. This makes it more valuable."
   ]
  },
  {
   "cell_type": "markdown",
   "metadata": {},
   "source": [
    "Confidence intervals often have a duality with two-sided hypothesis tests. A 95% confidence interval\n",
    "contains all the null hypotheses that would not be rejected at the 5% level. Thus the interval for pop75\n",
    "contains zero which indicates that the null hypothesis H0 : $\\beta_{pop75} = 0$ would not be rejected at the 5% level.\n",
    "We can see from the output above that the p-value is 12.5% —greater than 5% — confirming this point. In\n",
    "contrast, we see that the interval for ddpi does not contain zero and so the null hypothesis is rejected for\n",
    "its regression parameter."
   ]
  },
  {
   "cell_type": "code",
   "execution_count": 87,
   "metadata": {},
   "outputs": [
    {
     "data": {
      "application/javascript": [
       "\n",
       "        if (window._pyforest_update_imports_cell) { window._pyforest_update_imports_cell('import matplotlib.pyplot as plt'); }\n",
       "    "
      ],
      "text/plain": [
       "<IPython.core.display.Javascript object>"
      ]
     },
     "metadata": {},
     "output_type": "display_data"
    },
    {
     "data": {
      "application/javascript": [
       "\n",
       "        if (window._pyforest_update_imports_cell) { window._pyforest_update_imports_cell('import matplotlib.pyplot as plt'); }\n",
       "    "
      ],
      "text/plain": [
       "<IPython.core.display.Javascript object>"
      ]
     },
     "metadata": {},
     "output_type": "display_data"
    },
    {
     "data": {
      "image/png": "[encoded data removed]",
      "text/plain": [
       "<Figure size 576x576 with 21 Axes>"
      ]
     },
     "metadata": {
      "needs_background": "light"
     },
     "output_type": "display_data"
    }
   ],
   "source": [
    "from statsmodels.graphics.plot_grids import scatter_ellipse\n",
    "fig = plt.figure(figsize=(8,8))\n",
    "scatter_ellipse(dta, varnames=dta.columns, fig=fig)\n",
    "plt.show()\n"
   ]
  },
  {
   "cell_type": "markdown",
   "metadata": {},
   "source": [
    "#### Influential points"
   ]
  },
  {
   "cell_type": "code",
   "execution_count": 78,
   "metadata": {},
   "outputs": [
    {
     "data": {
      "image/png": "[encoded data removed]",
      "text/plain": [
       "<Figure size 432x288 with 1 Axes>"
      ]
     },
     "execution_count": 78,
     "metadata": {},
     "output_type": "execute_result"
    },
    {
     "data": {
      "image/png": "[encoded data removed]",
      "text/plain": [
       "<Figure size 432x288 with 1 Axes>"
      ]
     },
     "metadata": {
      "needs_background": "light"
     },
     "output_type": "display_data"
    }
   ],
   "source": [
    "sm.graphics.influence_plot(results)"
   ]
  },
  {
   "cell_type": "markdown",
   "metadata": {},
   "source": [
    "#### Interpreting parameter estimates"
   ]
  },
  {
   "cell_type": "markdown",
   "metadata": {},
   "source": [
    "1. *A unit change in x1 will produce a change of b1 in the response* -> causality, hidden confounding variables, non-orthogonality \n",
    "1. *1 is the effect of x1 when all the other (specified) predictors are held constant* -> Often in practice, individual variables cannot be changed without changing others too -> We see that the significance and the direction of the effect of pop75 change according to what other variables are also included in the model. We see that no simple conclusion about the effect of pop75 is possible. We must find interpretations for a variety of models. We certainly won’t be able to make any\n",
    "causal conclusions.\n",
    "\n",
    "An alternative approach is recognize that the parameters and their estimates are fictional quantities in most regression situations. The “true” values may never be known (if they even exist in the first place). Instead concentrate on predicting future values - these may actually be observed and success can then be measured in terms of how good the predictions were. \\\n",
    "Prediction is more stable than parameter estimation. This enables a rather cautious interpretation of b1. Suppose the predicted value of y is ˆy for given x1 and for other given predictor values. Now suppose we observe x1+1 and the same other given predictor values then the predicted response is increased by b1. Notice that I have been careful to not to say that we have taken a specific individual and increased their x1 by 1, rather we have observed a new individual with predictor x1+1. To put it another way, people with yellow fingers tend to be smokers but making someone’s fingers yellow won’t make them more likely to smoke."
   ]
  },
  {
   "cell_type": "markdown",
   "metadata": {},
   "source": [
    "### Errors in predictors"
   ]
  },
  {
   "cell_type": "markdown",
   "metadata": {},
   "source": [
    "The regression model Y Xb+e allows for Y being measured with error by having the e term, but what if the X is measured with error? In other words, what if the X we see is not the X used to generate Y? \n",
    "\n",
    "$ x_i = \\xi_i + \\delta_i = (realx)_i + (errx)_i$ "
   ]
  },
  {
   "cell_type": "markdown",
   "metadata": {},
   "source": [
    "So in general ˆb1 will be biased (regardless of the sample size and typically towards zero):\n",
    "\n",
    "$$ E \\hat\\beta_1 \\approx \\beta_1 \\frac{1}{1 + \\sigma^2_{errx} / \\sigma^2_{realx}}  $$"
   ]
  },
  {
   "cell_type": "markdown",
   "metadata": {},
   "source": [
    "In other words, if the variability in the errors of observation of X are small relative to the range of X then we need not be concerned. If not, it’s a serious problem and other methods such as fitting using orthogonal rather than vertical distance in the least squares fit should be considered."
   ]
  },
  {
   "cell_type": "markdown",
   "metadata": {},
   "source": [
    "For prediction, measurement error in the x’s is not such a problem since the same error will apply to the\n",
    "new x0 and the model used will be the right one.\n",
    "\n",
    "For multiple predictors, the usual effect of measurement errors is to bias the ˆb in the direction of zero.\n",
    "\n",
    "One should not confuse the errors in predictors with treating X as a random variable. For observational\n",
    "data, X could be regarded as a random variable, but the regression inference proceeds conditional on a fixed\n",
    "value for X. We make the assumption that the Y is generated conditional on the fixed value of X. Contrast\n",
    "this with the errors in predictors case where the X we see is not the X that was used to generate the Y."
   ]
  },
  {
   "cell_type": "markdown",
   "metadata": {},
   "source": [
    "Exercise: \n",
    "```\n",
    "x <- 10*runif(50)\n",
    "y <- x+rnorm(50)\n",
    "```\n",
    "\n",
    "Fit a model and compare with \n",
    "```\n",
    "x2 <- x + rnorm(50)\n",
    "x3 <- x+5*rnorm(50)\n",
    "```\n",
    "\n",
    "Repeat this N times and find the mean $\\hat\\beta_1$ according to the equation above (we know both sigmas well)\n"
   ]
  },
  {
   "cell_type": "markdown",
   "metadata": {},
   "source": [
    "### Missing variables"
   ]
  },
  {
   "cell_type": "markdown",
   "metadata": {},
   "source": [
    "Intercept will act as a sink for the mean of the missing variable"
   ]
  },
  {
   "cell_type": "markdown",
   "metadata": {},
   "source": [
    "### Residuals"
   ]
  },
  {
   "cell_type": "markdown",
   "metadata": {},
   "source": [
    "We see that although the errors may have equal variance and be uncorrelated the residuals do not"
   ]
  },
  {
   "cell_type": "markdown",
   "metadata": {},
   "source": [
    "Studentized residuals are sometimes preferred in residual plots as they have been standardized to have equal variance"
   ]
  },
  {
   "cell_type": "markdown",
   "metadata": {},
   "source": [
    "#### Varying variance "
   ]
  },
  {
   "cell_type": "markdown",
   "metadata": {},
   "source": [
    "Weighted least squares is appropriate when the form of the non-constant variance is either known exactly or there is some known parametric form. -> suggests binning? \n",
    "\n",
    "Alternatively, one can transform y to h(y) where h is chosen so that var h(y) is constant."
   ]
  },
  {
   "cell_type": "markdown",
   "metadata": {},
   "source": [
    "How to choose h(y)?\n",
    "\n",
    "1. Taylor-expand h(y) = h(Ey) + (y-Ey)h'(Ey) + ... \n",
    "1. calculate var h(y) following this expansion (keep 1. term) \n",
    "1. for var h(y) constant, there is a bound for h'(Ey), so it suggests: \n",
    "\n",
    "$$ h(y) = \\int \\frac{dy}{\\sqrt{\\textrm{var} y}} == \\int \\frac{dy}{{\\textrm{SD} y}} $$ "
   ]
  },
  {
   "cell_type": "markdown",
   "metadata": {},
   "source": [
    "Example: \n",
    "- $var y \\propto (Ey)^2$ -> $h(y)=\\log(y)$\n",
    "- $var y \\propto (Ey)$ -> $h(y)=\\sqrt{y}$"
   ]
  },
  {
   "cell_type": "markdown",
   "metadata": {},
   "source": [
    "#### Non-linearity"
   ]
  },
  {
   "cell_type": "markdown",
   "metadata": {},
   "source": [
    "Partial regression / Added variable: regress y on all-but-one (w/o x_i), get residuals; regress missing x_i on all-but-one, get other residuals; plot the 2 residuals against each other -> slope will be b_i, look for outliers, non-linearity etc. "
   ]
  },
  {
   "cell_type": "markdown",
   "metadata": {},
   "source": [
    "Partial residuals: get total residuals $\\epsilon_i$, plot $\\epsilon_i + \\hat\\beta_i x_i$ against $x_i$"
   ]
  },
  {
   "cell_type": "markdown",
   "metadata": {},
   "source": [
    "Partial residual plots are reckoned to be better for non-linearity detection while added variable plots are better for outlier/influential detection"
   ]
  },
  {
   "cell_type": "markdown",
   "metadata": {},
   "source": [
    "#### Distributions "
   ]
  },
  {
   "cell_type": "markdown",
   "metadata": {},
   "source": [
    "We can get an idea of the variation to be expected in QQ-plots in the following experiment. I generate\n",
    "data from different distributions:\n",
    "1. Normal\n",
    "2. Lognormal - an example of a skewed distribution\n",
    "3. Cauchy - an example of a long-tailed (platykurtic) distribution\n",
    "4. Uniform - an example of a short-tailed (leptokurtic) distribution\n",
    "Here’s how to generate 9 replicates at a time from each of these test cases:\n",
    "```\n",
    "> oldpar <- par()\n",
    "> par(mfrow=c(3,3))\n",
    "> for(i in 1:9) qqnorm(rnorm(50))\n",
    "> for(i in 1:9) qqnorm(exp(rnorm(50)))\n",
    "> for(i in 1:9) qqnorm(rcauchy(50))\n",
    "> for(i in 1:9) qqnorm(runif(50))\n",
    "> par(oldpar)\n",
    "```"
   ]
  },
  {
   "cell_type": "markdown",
   "metadata": {},
   "source": [
    "## Other\n",
    "Error elipsoids: https://mathematica.stackexchange.com/questions/21396/how-to-use-a-3%c3%973-covariance-matrix-to-plot-an-error-ellipsoid/21417#21417 "
   ]
  },
  {
   "cell_type": "markdown",
   "metadata": {},
   "source": [
    "# Statsmodel table"
   ]
  },
  {
   "cell_type": "code",
   "execution_count": 9,
   "metadata": {},
   "outputs": [
    {
     "name": "stderr",
     "output_type": "stream",
     "text": [
      "C:\\Users\\TK\\Anaconda3\\lib\\site-packages\\scipy\\stats\\stats.py:1535: UserWarning: kurtosistest only valid for n>=20 ... continuing anyway, n=16\n",
      "  \"anyway, n=%i\" % int(n))\n"
     ]
    },
    {
     "data": {
      "text/html": [
       "<table class=\"simpletable\">\n",
       "<caption>OLS Regression Results</caption>\n",
       "<tr>\n",
       "  <th>Dep. Variable:</th>         <td>TOTEMP</td>      <th>  R-squared:         </th> <td>   0.995</td>\n",
       "</tr>\n",
       "<tr>\n",
       "  <th>Model:</th>                   <td>OLS</td>       <th>  Adj. R-squared:    </th> <td>   0.992</td>\n",
       "</tr>\n",
       "<tr>\n",
       "  <th>Method:</th>             <td>Least Squares</td>  <th>  F-statistic:       </th> <td>   330.3</td>\n",
       "</tr>\n",
       "<tr>\n",
       "  <th>Date:</th>             <td>Mon, 25 Oct 2021</td> <th>  Prob (F-statistic):</th> <td>4.98e-10</td>\n",
       "</tr>\n",
       "<tr>\n",
       "  <th>Time:</th>                 <td>19:26:55</td>     <th>  Log-Likelihood:    </th> <td> -109.62</td>\n",
       "</tr>\n",
       "<tr>\n",
       "  <th>No. Observations:</th>      <td>    16</td>      <th>  AIC:               </th> <td>   233.2</td>\n",
       "</tr>\n",
       "<tr>\n",
       "  <th>Df Residuals:</th>          <td>     9</td>      <th>  BIC:               </th> <td>   238.6</td>\n",
       "</tr>\n",
       "<tr>\n",
       "  <th>Df Model:</th>              <td>     6</td>      <th>                     </th>     <td> </td>   \n",
       "</tr>\n",
       "<tr>\n",
       "  <th>Covariance Type:</th>      <td>nonrobust</td>    <th>                     </th>     <td> </td>   \n",
       "</tr>\n",
       "</table>\n",
       "<table class=\"simpletable\">\n",
       "<tr>\n",
       "      <td></td>         <th>coef</th>     <th>std err</th>      <th>t</th>      <th>P>|t|</th>  <th>[0.025</th>    <th>0.975]</th>  \n",
       "</tr>\n",
       "<tr>\n",
       "  <th>Intercept</th> <td>-3.482e+06</td> <td>  8.9e+05</td> <td>   -3.911</td> <td> 0.004</td> <td> -5.5e+06</td> <td>-1.47e+06</td>\n",
       "</tr>\n",
       "<tr>\n",
       "  <th>GNPDEFL</th>   <td>   15.0619</td> <td>   84.915</td> <td>    0.177</td> <td> 0.863</td> <td> -177.029</td> <td>  207.153</td>\n",
       "</tr>\n",
       "<tr>\n",
       "  <th>GNP</th>       <td>   -0.0358</td> <td>    0.033</td> <td>   -1.070</td> <td> 0.313</td> <td>   -0.112</td> <td>    0.040</td>\n",
       "</tr>\n",
       "<tr>\n",
       "  <th>UNEMP</th>     <td>   -2.0202</td> <td>    0.488</td> <td>   -4.136</td> <td> 0.003</td> <td>   -3.125</td> <td>   -0.915</td>\n",
       "</tr>\n",
       "<tr>\n",
       "  <th>ARMED</th>     <td>   -1.0332</td> <td>    0.214</td> <td>   -4.822</td> <td> 0.001</td> <td>   -1.518</td> <td>   -0.549</td>\n",
       "</tr>\n",
       "<tr>\n",
       "  <th>POP</th>       <td>   -0.0511</td> <td>    0.226</td> <td>   -0.226</td> <td> 0.826</td> <td>   -0.563</td> <td>    0.460</td>\n",
       "</tr>\n",
       "<tr>\n",
       "  <th>YEAR</th>      <td> 1829.1515</td> <td>  455.478</td> <td>    4.016</td> <td> 0.003</td> <td>  798.788</td> <td> 2859.515</td>\n",
       "</tr>\n",
       "</table>\n",
       "<table class=\"simpletable\">\n",
       "<tr>\n",
       "  <th>Omnibus:</th>       <td> 0.749</td> <th>  Durbin-Watson:     </th> <td>   2.559</td>\n",
       "</tr>\n",
       "<tr>\n",
       "  <th>Prob(Omnibus):</th> <td> 0.688</td> <th>  Jarque-Bera (JB):  </th> <td>   0.684</td>\n",
       "</tr>\n",
       "<tr>\n",
       "  <th>Skew:</th>          <td> 0.420</td> <th>  Prob(JB):          </th> <td>   0.710</td>\n",
       "</tr>\n",
       "<tr>\n",
       "  <th>Kurtosis:</th>      <td> 2.434</td> <th>  Cond. No.          </th> <td>4.86e+09</td>\n",
       "</tr>\n",
       "</table><br/><br/>Warnings:<br/>[1] Standard Errors assume that the covariance matrix of the errors is correctly specified.<br/>[2] The condition number is large, 4.86e+09. This might indicate that there are<br/>strong multicollinearity or other numerical problems."
      ],
      "text/plain": [
       "<class 'statsmodels.iolib.summary.Summary'>\n",
       "\"\"\"\n",
       "                            OLS Regression Results                            \n",
       "==============================================================================\n",
       "Dep. Variable:                 TOTEMP   R-squared:                       0.995\n",
       "Model:                            OLS   Adj. R-squared:                  0.992\n",
       "Method:                 Least Squares   F-statistic:                     330.3\n",
       "Date:                Mon, 25 Oct 2021   Prob (F-statistic):           4.98e-10\n",
       "Time:                        19:26:55   Log-Likelihood:                -109.62\n",
       "No. Observations:                  16   AIC:                             233.2\n",
       "Df Residuals:                       9   BIC:                             238.6\n",
       "Df Model:                           6                                         \n",
       "Covariance Type:            nonrobust                                         \n",
       "==============================================================================\n",
       "                 coef    std err          t      P>|t|      [0.025      0.975]\n",
       "------------------------------------------------------------------------------\n",
       "Intercept  -3.482e+06    8.9e+05     -3.911      0.004    -5.5e+06   -1.47e+06\n",
       "GNPDEFL       15.0619     84.915      0.177      0.863    -177.029     207.153\n",
       "GNP           -0.0358      0.033     -1.070      0.313      -0.112       0.040\n",
       "UNEMP         -2.0202      0.488     -4.136      0.003      -3.125      -0.915\n",
       "ARMED         -1.0332      0.214     -4.822      0.001      -1.518      -0.549\n",
       "POP           -0.0511      0.226     -0.226      0.826      -0.563       0.460\n",
       "YEAR        1829.1515    455.478      4.016      0.003     798.788    2859.515\n",
       "==============================================================================\n",
       "Omnibus:                        0.749   Durbin-Watson:                   2.559\n",
       "Prob(Omnibus):                  0.688   Jarque-Bera (JB):                0.684\n",
       "Skew:                           0.420   Prob(JB):                        0.710\n",
       "Kurtosis:                       2.434   Cond. No.                     4.86e+09\n",
       "==============================================================================\n",
       "\n",
       "Warnings:\n",
       "[1] Standard Errors assume that the covariance matrix of the errors is correctly specified.\n",
       "[2] The condition number is large, 4.86e+09. This might indicate that there are\n",
       "strong multicollinearity or other numerical problems.\n",
       "\"\"\""
      ]
     },
     "execution_count": 9,
     "metadata": {},
     "output_type": "execute_result"
    }
   ],
   "source": [
    "results.summary()"
   ]
  },
  {
   "cell_type": "markdown",
   "metadata": {},
   "source": [
    "- Omnibus: test for normality of residuals, based on skew (symmetry) and kurtosis (peakiness), combines the two tests quadratically. We want sth close to 0 \n",
    "- Durbin-Watson: test for autocorrelation in the residuals, always 0..4. No autocorrelation = 2, positive <2, negative >2\n",
    "- Jarque-Bera: similar to omnibus, but differently formulated. We want sth close to 0 \n",
    "- condition number: takes into account high sensitivity in either fitted parameter to the input data, high c.n. = sensitive parameters \n",
    "\n",
    " \n",
    "- R2, Adj. R2 - residual sum of squares \n",
    "- AIC, BIC: Akaike / Bayesian Information Criterion - gof measures based on likelihood function\n",
    "- F-test: how much better are current coefficients than null coefficients (base model - predict mean y)  \n",
    "\n",
    "\n",
    "- p-value: how likely a  coefficient is measured through our model by chance"
   ]
  },
  {
   "cell_type": "markdown",
   "metadata": {},
   "source": [
    "### Accessing statsmodel table elements: "
   ]
  },
  {
   "cell_type": "markdown",
   "metadata": {},
   "source": [
    "As a dataframe: use `model.summary2()`, `.tables` contains a list of 3 df"
   ]
  },
  {
   "cell_type": "code",
   "execution_count": 30,
   "metadata": {},
   "outputs": [
    {
     "name": "stderr",
     "output_type": "stream",
     "text": [
      "C:\\Users\\TK\\Anaconda3\\lib\\site-packages\\scipy\\stats\\stats.py:1535: UserWarning: kurtosistest only valid for n>=20 ... continuing anyway, n=16\n",
      "  \"anyway, n=%i\" % int(n))\n"
     ]
    },
    {
     "data": {
      "text/plain": [
       "[                     0                 1                    2         3\n",
       " 0               Model:               OLS      Adj. R-squared:     0.992\n",
       " 1  Dependent Variable:                 y                 AIC:  233.2349\n",
       " 2                Date:  2021-10-25 19:45                 BIC:  238.6430\n",
       " 3    No. Observations:                16      Log-Likelihood:   -109.62\n",
       " 4            Df Model:                 6         F-statistic:     330.3\n",
       " 5        Df Residuals:                 9  Prob (F-statistic):  4.98e-10\n",
       " 6           R-squared:             0.995               Scale:    92936.,\n",
       "               Coef.       Std.Err.         t     P>|t|        [0.025  \\\n",
       " const -3.482259e+06  890420.383608 -3.910803  0.003560 -5.496529e+06   \n",
       " x1     1.506187e+01      84.914926  0.177376  0.863141 -1.770290e+02   \n",
       " x2    -3.581918e-02       0.033491 -1.069516  0.312681 -1.115811e-01   \n",
       " x3    -2.020230e+00       0.488400 -4.136427  0.002535 -3.125067e+00   \n",
       " x4    -1.033227e+00       0.214274 -4.821985  0.000944 -1.517949e+00   \n",
       " x5    -5.110411e-02       0.226073 -0.226051  0.826212 -5.625172e-01   \n",
       " x6     1.829151e+03     455.478499  4.015890  0.003037  7.987875e+02   \n",
       " \n",
       "              0.975]  \n",
       " const -1.467988e+06  \n",
       " x1     2.071528e+02  \n",
       " x2     3.994274e-02  \n",
       " x3    -9.153930e-01  \n",
       " x4    -5.485050e-01  \n",
       " x5     4.603090e-01  \n",
       " x6     2.859515e+03  ,\n",
       "                 0      1                  2           3\n",
       " 0        Omnibus:  0.749     Durbin-Watson:       2.559\n",
       " 1  Prob(Omnibus):  0.688  Jarque-Bera (JB):       0.684\n",
       " 2           Skew:  0.420          Prob(JB):       0.710\n",
       " 3       Kurtosis:  2.434     Condition No.:  4859257015]"
      ]
     },
     "execution_count": 30,
     "metadata": {},
     "output_type": "execute_result"
    }
   ],
   "source": [
    "results.summary2().tables"
   ]
  },
  {
   "cell_type": "markdown",
   "metadata": {},
   "source": [
    "Important methods and properties of the model: "
   ]
  },
  {
   "cell_type": "code",
   "execution_count": null,
   "metadata": {},
   "outputs": [],
   "source": [
    "results.fittedvalues # fitted values \n",
    "results.resid # residuals "
   ]
  },
  {
   "cell_type": "code",
   "execution_count": 39,
   "metadata": {},
   "outputs": [
    {
     "data": {
      "text/plain": [
       "array([-3469438.11173679])"
      ]
     },
     "execution_count": 39,
     "metadata": {},
     "output_type": "execute_result"
    }
   ],
   "source": [
    "results.predict([1,2,3,4,5,6,7]) # predict for a given vector"
   ]
  },
  {
   "cell_type": "code",
   "execution_count": 76,
   "metadata": {},
   "outputs": [
    {
     "data": {
      "text/plain": [
       "array([0.0035604 , 0.86314083, 0.31268106, 0.00253509, 0.00094437,\n",
       "       0.8262118 , 0.0030368 ])"
      ]
     },
     "execution_count": 76,
     "metadata": {},
     "output_type": "execute_result"
    }
   ],
   "source": [
    "results.params # fitted parameters \n",
    "results.bse # std error on the coefficients\n",
    "results.pvalues # chance that a coeff is not zero by chance"
   ]
  },
  {
   "cell_type": "code",
   "execution_count": 44,
   "metadata": {},
   "outputs": [
    {
     "data": {
      "text/plain": [
       "array([[-5.49652948e+06, -1.46798779e+06],\n",
       "       [-1.77029035e+02,  2.07152780e+02],\n",
       "       [-1.11581102e-01,  3.99427438e-02],\n",
       "       [-3.12506664e+00, -9.15392966e-01],\n",
       "       [-1.51794870e+00, -5.48505034e-01],\n",
       "       [-5.62517214e-01,  4.60309003e-01],\n",
       "       [ 7.98787515e+02,  2.85951541e+03]])"
      ]
     },
     "execution_count": 44,
     "metadata": {},
     "output_type": "execute_result"
    }
   ],
   "source": [
    "results.conf_int(alpha=0.05) # confidence intervals "
   ]
  },
  {
   "cell_type": "code",
   "execution_count": 32,
   "metadata": {},
   "outputs": [
    {
     "data": {
      "text/plain": [
       "9.0"
      ]
     },
     "execution_count": 32,
     "metadata": {},
     "output_type": "execute_result"
    }
   ],
   "source": [
    "results.df_model # degrees of freedom of the model: how many coefficients (not incl. intercept)\n",
    "results.df_resid # degrees of freedom - residual: number of points minus coefficients minus one"
   ]
  },
  {
   "cell_type": "code",
   "execution_count": 41,
   "metadata": {},
   "outputs": [
    {
     "data": {
      "text/plain": [
       "0.9954790045772938"
      ]
     },
     "execution_count": 41,
     "metadata": {},
     "output_type": "execute_result"
    }
   ],
   "source": [
    "results.rsquared # R2. Watch out -> R2 is an imperfect measure of gof! "
   ]
  },
  {
   "cell_type": "markdown",
   "metadata": {},
   "source": [
    "Other measures than R2: adjusted-R2, chi-square, MSE - see: \n",
    "- https://data.library.virginia.edu/is-r-squared-useless/ \n",
    "- https://statisticsbyjim.com/regression/r-squared-too-high/"
   ]
  },
  {
   "cell_type": "markdown",
   "metadata": {},
   "source": [
    "\"Endog\" -> y, \"exog\" -> x \\\n",
    "see https://www.statsmodels.org/stable/endog_exog.html "
   ]
  }
 ],
 "metadata": {
  "kernelspec": {
   "display_name": "Python 3",
   "language": "python",
   "name": "python3"
  },
  "language_info": {
   "codemirror_mode": {
    "name": "ipython",
    "version": 3
   },
   "file_extension": ".py",
   "mimetype": "text/x-python",
   "name": "python",
   "nbconvert_exporter": "python",
   "pygments_lexer": "ipython3",
   "version": "3.6.8"
  }
 },
 "nbformat": 4,
 "nbformat_minor": 4
}
